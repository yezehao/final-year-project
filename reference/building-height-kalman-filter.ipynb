{
 "cells": [
  {
   "cell_type": "markdown",
   "metadata": {},
   "source": [
    "## Example: Estimating the height of a building\n",
    "The true building height is 60 meters, and the altimeter measurement error (standard deviation) is 5 meters.\n",
    "|measurement times n|1|2|3|4|5|6|7|8|9|10|\n",
    "|:-:|:-:|:-:|:-:|:-:|:-:|:-:|:-:|:-:|:-:|:-:|\n",
    "|measurand|58.54m|57.11m|65.01m|65.15m|59.89m|50.85m|56.72m|60.05m|61.27m|59.95m|"
   ]
  },
  {
   "cell_type": "code",
   "execution_count": 168,
   "metadata": {},
   "outputs": [],
   "source": [
    "import matplotlib.pyplot as plt\n",
    "import numpy as np\n",
    "import pandas as pd"
   ]
  },
  {
   "cell_type": "markdown",
   "metadata": {},
   "source": [
    "## Initialization\n",
    "The estimate building height is 70 m, and the estimate standard deviation is 15 m."
   ]
  },
  {
   "cell_type": "code",
   "execution_count": 169,
   "metadata": {},
   "outputs": [
    {
     "name": "stdout",
     "output_type": "stream",
     "text": [
      "    Building_Height  Standard_Deviation  Realistic_value  Measurand\n",
      "0              70.0               225.0             60.0       0.00\n",
      "1               0.0                 0.0             60.0      58.54\n",
      "2               0.0                 0.0             60.0      57.11\n",
      "3               0.0                 0.0             60.0      65.01\n",
      "4               0.0                 0.0             60.0      65.15\n",
      "5               0.0                 0.0             60.0      59.89\n",
      "6               0.0                 0.0             60.0      50.85\n",
      "7               0.0                 0.0             60.0      56.72\n",
      "8               0.0                 0.0             60.0      60.05\n",
      "9               0.0                 0.0             60.0      61.27\n",
      "10              0.0                 0.0             60.0      59.95\n"
     ]
    }
   ],
   "source": [
    "# The variance of altimeter measurement error\n",
    "r = 25\n",
    "\n",
    "# The table of estimation and measurand\n",
    "# data = ['Number': [0,0,0,0,0,0,0,0,0,0,0],\n",
    "#         [70,0,0,0,0,0,0,0,0,0,0],\n",
    "#         [225,0,0,0,0,0,0,0,0,0,0],\n",
    "#         [60,60,60,60,60,60,60,60,60,60,60],\n",
    "#         [0,58.54,57.11,65.01,65.15,59.89,50.85,56.72,60.05,61.27,59.95]]\n",
    "initial = pd.DataFrame({\n",
    "        'Building_Height':[70,0,0,0,0,0,0,0,0,0,0],\n",
    "        'Standard_Deviation':[225,0,0,0,0,0,0,0,0,0,0],\n",
    "        'Realistic_value':[60,60,60,60,60,60,60,60,60,60,60],\n",
    "        'Measurand':[0,58.54,57.11,65.01,65.15,59.89,50.85,56.72,60.05,61.27,59.95]},\n",
    "        dtype=float)\n",
    "print(initial)"
   ]
  },
  {
   "cell_type": "code",
   "execution_count": 170,
   "metadata": {},
   "outputs": [
    {
     "name": "stdout",
     "output_type": "stream",
     "text": [
      "    Building_Height  Standard_Deviation  Realistic_value  Measurand\n",
      "0         70.000000          225.000000             60.0       0.00\n",
      "1         59.686000           22.500000             60.0      58.54\n",
      "2         58.465789           11.842105             60.0      57.11\n",
      "3         60.569286            8.035714             60.0      65.01\n",
      "4         61.683514            6.081081             60.0      65.15\n",
      "5         61.332609            4.891304             60.0      59.89\n",
      "6         59.617273            4.090909             60.0      50.85\n",
      "7         59.209844            3.515625             60.0      56.72\n",
      "8         59.313425            3.082192             60.0      60.05\n",
      "9         59.528171            2.743902             60.0      61.27\n",
      "10        59.569890            2.472527             60.0      59.95\n"
     ]
    }
   ],
   "source": [
    "for index in range(initial.shape[0]-1):\n",
    "    i = index + 1    \n",
    "    x = initial.iloc[index,0]\n",
    "    p = initial.iloc[index,1]\n",
    "    K = p/(p+r)\n",
    "    z = initial.iloc[i,3]\n",
    "    initial.loc[i,'Building_Height']=x+K*(z-x)\n",
    "    initial.loc[i,'Standard_Deviation']=(1-K)*p\n",
    "print(initial)"
   ]
  }
 ],
 "metadata": {
  "kernelspec": {
   "display_name": "Python 3.9.12 ('test')",
   "language": "python",
   "name": "python3"
  },
  "language_info": {
   "codemirror_mode": {
    "name": "ipython",
    "version": 3
   },
   "file_extension": ".py",
   "mimetype": "text/x-python",
   "name": "python",
   "nbconvert_exporter": "python",
   "pygments_lexer": "ipython3",
   "version": "3.9.12"
  },
  "orig_nbformat": 4,
  "vscode": {
   "interpreter": {
    "hash": "a2e3f11384dbec4498cf1635d3d956a5b449b332ac2e222f30e93bbd5442e8f1"
   }
  }
 },
 "nbformat": 4,
 "nbformat_minor": 2
}
